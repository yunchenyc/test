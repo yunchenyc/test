{
 "cells": [
  {
   "cell_type": "code",
   "execution_count": 91,
   "metadata": {},
   "outputs": [],
   "source": [
    "# !pip install PSID --upgrade"
   ]
  },
  {
   "cell_type": "code",
   "execution_count": 1,
   "metadata": {},
   "outputs": [],
   "source": [
    "import numpy as np\n",
    "import matplotlib.pyplot as plt\n",
    "import seaborn as sns\n",
    "from sklearn.decomposition import PCA\n",
    "from matplotlib.colors import ListedColormap\n",
    "from sklearn.manifold import Isomap\n",
    "import scipy.io \n",
    "import scipy.stats as stats\n",
    "import PSID"
   ]
  },
  {
   "cell_type": "code",
   "execution_count": 2,
   "metadata": {},
   "outputs": [
    {
     "name": "stdout",
     "output_type": "stream",
     "text": [
      "number of trials: 772\n",
      "number of neurons: 136, 41/95 (PMd/M1)\n",
      "number of time: 41\n"
     ]
    }
   ],
   "source": [
    "PATH_LOAD = 'F://Aac//Work//Project//Interception//Data//Monkey_C//'\n",
    "\n",
    "neural_data = scipy.io.loadmat(PATH_LOAD+'tdc_caeser20201022001_syjSorter_peeler_zyh_NeuralDataFile_aligned_3.mat')\n",
    "handtraj_data = scipy.io.loadmat(PATH_LOAD+'C1022_HandTrajGOTT.mat')\n",
    "\n",
    "# neural_data.keys() = ['InstantaneousRate', 'TimeHistogram', 'SpikeTimeData']\n",
    "st = neural_data['SpikeTimeData'] \n",
    "# st[0, 0][0][itrial][ineuron] -> spike times\n",
    "# st[0, 0][1][0, itrial] -> trial annotation\n",
    "# st[0, 0][2] -> unknown\n",
    "# st[0, 0][3] -> elec label\n",
    "# st[0, 0][4][itrial, 0] -> target speed \n",
    "\n",
    "num_trial = len(st[0, 0][4])\n",
    "target_speed = st[0, 0][4]\n",
    "print(\"number of trials: {}\".format(num_trial))\n",
    "\n",
    "num_neuron = len(st[0, 0][3])\n",
    "pmd_idx = [i for i, e in enumerate(st[0, 0][3]) if 'elec1' in e]\n",
    "num_pmd = len(pmd_idx)\n",
    "m1_idx = [i for i, e in enumerate(st[0, 0][3]) if 'elec2' in e]\n",
    "num_m1 = len(m1_idx)\n",
    "print(\"number of neurons: {}, {}/{} (PMd/M1)\".format(num_neuron, num_pmd, num_m1))\n",
    "\n",
    "start_time = -200\n",
    "end_time = 600\n",
    "align_marker =  3 #GO\n",
    "bin = 20 #ms\n",
    "num_time = int((end_time-start_time)/bin) + 1\n",
    "print(\"number of time: {}\".format(num_time))\n"
   ]
  },
  {
   "cell_type": "code",
   "execution_count": null,
   "metadata": {},
   "outputs": [
    {
     "ename": "AttributeError",
     "evalue": "module 'matplotlib.pyplot' has no attribute 'heatmap'",
     "output_type": "error",
     "traceback": [
      "\u001b[1;31m---------------------------------------------------------------------------\u001b[0m",
      "\u001b[1;31mAttributeError\u001b[0m                            Traceback (most recent call last)",
      "Cell \u001b[1;32mIn[91], line 17\u001b[0m\n\u001b[0;32m     14\u001b[0m \u001b[38;5;66;03m# print(sc)\u001b[39;00m\n\u001b[0;32m     16\u001b[0m plt\u001b[38;5;241m.\u001b[39mfigure()\n\u001b[1;32m---> 17\u001b[0m plt\u001b[38;5;241m.\u001b[39mheatmap(sc)\n\u001b[0;32m     18\u001b[0m plt\u001b[38;5;241m.\u001b[39mshow()\n",
      "\u001b[1;31mAttributeError\u001b[0m: module 'matplotlib.pyplot' has no attribute 'heatmap'"
     ]
    },
    {
     "ename": "",
     "evalue": "",
     "output_type": "error",
     "traceback": [
      "\u001b[1;31mThe Kernel crashed while executing code in the current cell or a previous cell. \n",
      "\u001b[1;31mPlease review the code in the cell(s) to identify a possible cause of the failure. \n",
      "\u001b[1;31mClick <a href='https://aka.ms/vscodeJupyterKernelCrash'>here</a> for more info. \n",
      "\u001b[1;31mView Jupyter <a href='command:jupyter.viewOutput'>log</a> for further details."
     ]
    }
   ],
   "source": [
    "align_time = np.array([st[0, 0][1][0, i][0, 0][5][0, 0][1][st[0, 0][1][0, i][0, 0][5][0, 0][0]==align_marker][0] for i in range(num_trial)])\n",
    "# print(align_time)\n",
    "bin_edge = [(i, j) for (i, j) in zip(np.arange(start_time-bin/2, end_time+bin/2, bin), \n",
    "                                     np.arange(start_time+bin/2, end_time+bin, bin))]\n",
    "\n",
    "sc = np.zeros((num_trial, num_time, num_neuron))\n",
    "for i_trial in range(num_trial):\n",
    "    for i_neuron in range(num_neuron):\n",
    "        aligned_st = st[0, 0][0][i_trial]*1000 - align_time[i_trial]  # ms\n",
    "        for i_time in range(num_time):\n",
    "           sc[i_trial, i_time, i_neuron] = np.sum(aligned_st[i_neuron][(aligned_st[i_neuron]>bin_edge[i_time][0])&\n",
    "                                                                       (aligned_st[i_neuron]<=bin_edge[i_time][1])]!=0)\n",
    "\n",
    "# print(sc)\n",
    "\n",
    "plt.figure()\n",
    "plt.imshow(sc)\n",
    "plt.show()"
   ]
  },
  {
   "cell_type": "code",
   "execution_count": 89,
   "metadata": {},
   "outputs": [
    {
     "data": {
      "text/plain": [
       "1"
      ]
     },
     "execution_count": 89,
     "metadata": {},
     "output_type": "execute_result"
    }
   ],
   "source": [
    "np.sum(aligned_st[i_neuron][(aligned_st[i_neuron]>bin_edge[i_time][0])&\n",
    "                                                                       (aligned_st[i_neuron]<=bin_edge[i_time][1])]!=0)"
   ]
  },
  {
   "cell_type": "code",
   "execution_count": 44,
   "metadata": {},
   "outputs": [
    {
     "name": "stdout",
     "output_type": "stream",
     "text": [
      "[[2.08122005e-01 2.19440420e+00 4.45373106e+02 8.52190042e+02\n",
      "  1.41885836e+03 1.76053169e+03 1.86491770e+03 2.08552389e+03\n",
      "  3.08431764e+03 3.60328867e+03]]\n"
     ]
    }
   ],
   "source": [
    "print(st[0, 0][1][0, 10][0, 0][5][0, 0][1])"
   ]
  },
  {
   "cell_type": "code",
   "execution_count": null,
   "metadata": {},
   "outputs": [],
   "source": [
    "spike_time = []\n",
    "\n",
    "for i_trial in range(num_trial):\n",
    "    trial_ts = {}\n",
    "    for i_neuron in range(num_neuron):\n",
    "        trial_ts.update({i_neuron: nap.Ts(t=st[0, 0][0][i_trial][i_neuron].flatten(), time_units=\"s\")})\n",
    "    tsgroup = nap.TsGroup(trial_ts)\n",
    "    spike_time.append(tsgroup)\n"
   ]
  },
  {
   "cell_type": "code",
   "execution_count": 51,
   "metadata": {},
   "outputs": [
    {
     "data": {
      "text/plain": [
       "785.3446756980702"
      ]
     },
     "execution_count": 51,
     "metadata": {},
     "output_type": "execute_result"
    }
   ],
   "source": [
    "st[0, 0][1][0, 99][0, 0][5][0, 0][1][st[0, 0][1][0, 99][0, 0][5][0, 0][0]==3][0]"
   ]
  },
  {
   "cell_type": "code",
   "execution_count": 52,
   "metadata": {},
   "outputs": [
    {
     "name": "stdout",
     "output_type": "stream",
     "text": [
      "Time (s)\n",
      "0.000683512\n",
      "0.063516848\n",
      "0.145483509\n",
      "0.198716849\n",
      "0.232450172\n",
      "0.280483514\n",
      "0.33915019\n",
      "...\n",
      "1.862616897\n",
      "1.892183542\n",
      "1.945683479\n",
      "1.96325016\n",
      "1.96538353\n",
      "1.989216805\n",
      "1.998783469\n",
      "shape: 30 \n",
      "\n",
      "Time (s)       0    1    2    3    4  ...\n",
      "-----------  ---  ---  ---  ---  ---  -----\n",
      "0.595344676    0    0    0    0    0  ...\n",
      "0.615344676    1    1    0    0    0  ...\n",
      "0.635344676    0    0    1    0    1  ...\n",
      "0.655344676    1    0    0    0    0  ...\n",
      "0.675344676    0    1    0    0    0  ...\n",
      "0.695344676    0    0    0    0    1  ...\n",
      "0.715344676    1    0    0    1    0  ...\n",
      "...\n",
      "1.255344676    0    0    0    0    0  ...\n",
      "1.275344676    0    0    0    0    0  ...\n",
      "1.295344676    0    1    0    0    0  ...\n",
      "1.315344676    0    0    0    0    0  ...\n",
      "1.335344676    0    1    0    1    0  ...\n",
      "1.355344676    0    0    0    1    0  ...\n",
      "1.375344676    0    0    0    0    0  ...\n",
      "dtype: int64, shape: (40, 136)\n"
     ]
    },
    {
     "name": "stderr",
     "output_type": "stream",
     "text": [
      "C:\\Users\\singa\\AppData\\Local\\Temp\\ipykernel_1432\\1483166819.py:5: UserWarning: start is not sorted. Sorting it.\n",
      "  epochs = nap.IntervalSet(start=go_time-200, end=go_time+600, time_units=\"ms\")\n",
      "C:\\Users\\singa\\AppData\\Local\\Temp\\ipykernel_1432\\1483166819.py:5: UserWarning: end is not sorted. Sorting it.\n",
      "  epochs = nap.IntervalSet(start=go_time-200, end=go_time+600, time_units=\"ms\")\n",
      "C:\\Users\\singa\\AppData\\Local\\Temp\\ipykernel_1432\\1483166819.py:5: UserWarning: Some starts precede the previous end. Joining them!\n",
      "  epochs = nap.IntervalSet(start=go_time-200, end=go_time+600, time_units=\"ms\")\n"
     ]
    }
   ],
   "source": [
    "print(spike_time[0][4], \"\\n\")\n",
    "\n",
    "go_time = np.array([st[0, 0][1][0, 99][0, 0][5][0, 0][1][st[0, 0][1][0, 99][0, 0][5][0, 0][0]==3][0] for i in range(num_trial)])\n",
    "\n",
    "epochs = nap.IntervalSet(start=go_time-200, end=go_time+600, time_units=\"ms\")\n",
    "spike_count = spike_time[0].count(0.02, epochs, time_units=\"s\")\n",
    "print(spike_count)"
   ]
  },
  {
   "cell_type": "code",
   "execution_count": null,
   "metadata": {},
   "outputs": [],
   "source": [
    "cond = dt.DelayedGenerator(target_init=m1_data['tar_dir_TO_GO_MO_Sur'][:, [0]]/180*np.pi,\n",
    "                           target_speed=m1_data['speed_tri'])\n",
    "\n",
    "cond.time_dict = {\n",
    "    'time_total': (m1_data['time_TO_GO_MO_Touch'][:, 3] - m1_data['time_TO_GO_MO_Touch'][:, 0]).astype(int),\n",
    "    'go': (m1_data['time_TO_GO_MO_Touch'][:, 1] - m1_data['time_TO_GO_MO_Touch'][:, 0]).astype(int),\n",
    "    'mo': (m1_data['time_TO_GO_MO_Touch'][:, 2] - m1_data['time_TO_GO_MO_Touch'][:, 0]).astype(int),\n",
    "    'time_move': (m1_data['time_TO_GO_MO_Touch'][:, 3] - m1_data['time_TO_GO_MO_Touch'][:, 2]).astype(int),\n",
    "    'time_points': [np.arange(i) for i in\n",
    "                    (m1_data['time_TO_GO_MO_Touch'][:, 3] - m1_data['time_TO_GO_MO_Touch'][:, 0]).astype(int)]}\n",
    "\n",
    "target_rad = np.zeros((num_trial, max(cond.time_dict['time_total']), 1))\n",
    "for i_trial in range(num_trial):\n",
    "    target_rad[i_trial, 0:cond.time_dict['time_total'][i_trial], 0] = (\n",
    "            cond.condition_dict['target_speed'][i_trial, 0]/180*np.pi/1000\n",
    "            * cond.time_dict['time_points'][i_trial]\n",
    "            + cond.condition_dict['target_init'][i_trial, 0])\n",
    "target_rad = np.mod(target_rad, np.pi * 2)\n",
    "# check\n",
    "go_diff = abs(np.array([target_rad[i, cond.time_dict['go'][i], 0] for i in range(num_trial)])\n",
    "              - m1_data['tar_dir_TO_GO_MO_Sur'][:, 1]/180*np.pi)\n",
    "mo_diff = abs(np.array([target_rad[i, cond.time_dict['mo'][i], 0] for i in range(num_trial)])\n",
    "              - m1_data['tar_dir_TO_GO_MO_Sur'][:, 2]/180*np.pi)"
   ]
  }
 ],
 "metadata": {
  "kernelspec": {
   "display_name": "py311",
   "language": "python",
   "name": "python3"
  },
  "language_info": {
   "codemirror_mode": {
    "name": "ipython",
    "version": 3
   },
   "file_extension": ".py",
   "mimetype": "text/x-python",
   "name": "python",
   "nbconvert_exporter": "python",
   "pygments_lexer": "ipython3",
   "version": "3.11.8"
  }
 },
 "nbformat": 4,
 "nbformat_minor": 2
}
